{
 "cells": [
  {
   "cell_type": "code",
   "execution_count": 1,
   "metadata": {},
   "outputs": [],
   "source": [
    "import pygsp as p\n",
    "\n",
    "import numpy as np\n",
    "from numpy.linalg import matrix_rank, inv, pinv\n",
    "import matplotlib.pyplot as plt\n",
    "\n",
    "import cv2\n",
    "\n",
    "from scipy import fft\n",
    "\n",
    "from scipy.sparse.linalg import eigs\n",
    "from scipy.linalg import eig\n",
    "from scipy.optimize import linprog, minimize, Bounds\n",
    "\n",
    "import pandas as pd\n",
    "\n",
    "from math import cos, asin, sqrt, pi\n",
    "\n",
    "from spielman_learning import *"
   ]
  },
  {
   "cell_type": "code",
   "execution_count": 2,
   "metadata": {},
   "outputs": [],
   "source": [
    "from ripser import ripser\n",
    "from persim import plot_diagrams"
   ]
  },
  {
   "cell_type": "code",
   "execution_count": 3,
   "metadata": {},
   "outputs": [
    {
     "data": {
      "text/html": [
       "<div>\n",
       "<style scoped>\n",
       "    .dataframe tbody tr th:only-of-type {\n",
       "        vertical-align: middle;\n",
       "    }\n",
       "\n",
       "    .dataframe tbody tr th {\n",
       "        vertical-align: top;\n",
       "    }\n",
       "\n",
       "    .dataframe thead th {\n",
       "        text-align: right;\n",
       "    }\n",
       "</style>\n",
       "<table border=\"1\" class=\"dataframe\">\n",
       "  <thead>\n",
       "    <tr style=\"text-align: right;\">\n",
       "      <th></th>\n",
       "      <th>Date</th>\n",
       "      <th>Location</th>\n",
       "      <th>MinTemp</th>\n",
       "      <th>MaxTemp</th>\n",
       "      <th>Rainfall</th>\n",
       "      <th>Evaporation</th>\n",
       "      <th>Sunshine</th>\n",
       "      <th>WindGustDir</th>\n",
       "      <th>WindGustSpeed</th>\n",
       "      <th>WindDir9am</th>\n",
       "      <th>...</th>\n",
       "      <th>Humidity9am</th>\n",
       "      <th>Humidity3pm</th>\n",
       "      <th>Pressure9am</th>\n",
       "      <th>Pressure3pm</th>\n",
       "      <th>Cloud9am</th>\n",
       "      <th>Cloud3pm</th>\n",
       "      <th>Temp9am</th>\n",
       "      <th>Temp3pm</th>\n",
       "      <th>RainToday</th>\n",
       "      <th>RainTomorrow</th>\n",
       "    </tr>\n",
       "  </thead>\n",
       "  <tbody>\n",
       "    <tr>\n",
       "      <th>0</th>\n",
       "      <td>2008-12-01</td>\n",
       "      <td>Albury</td>\n",
       "      <td>13.4</td>\n",
       "      <td>22.9</td>\n",
       "      <td>0.6</td>\n",
       "      <td>NaN</td>\n",
       "      <td>NaN</td>\n",
       "      <td>W</td>\n",
       "      <td>44.0</td>\n",
       "      <td>W</td>\n",
       "      <td>...</td>\n",
       "      <td>71.0</td>\n",
       "      <td>22.0</td>\n",
       "      <td>1007.7</td>\n",
       "      <td>1007.1</td>\n",
       "      <td>8.0</td>\n",
       "      <td>NaN</td>\n",
       "      <td>16.9</td>\n",
       "      <td>21.8</td>\n",
       "      <td>No</td>\n",
       "      <td>No</td>\n",
       "    </tr>\n",
       "    <tr>\n",
       "      <th>1</th>\n",
       "      <td>2008-12-02</td>\n",
       "      <td>Albury</td>\n",
       "      <td>7.4</td>\n",
       "      <td>25.1</td>\n",
       "      <td>0.0</td>\n",
       "      <td>NaN</td>\n",
       "      <td>NaN</td>\n",
       "      <td>WNW</td>\n",
       "      <td>44.0</td>\n",
       "      <td>NNW</td>\n",
       "      <td>...</td>\n",
       "      <td>44.0</td>\n",
       "      <td>25.0</td>\n",
       "      <td>1010.6</td>\n",
       "      <td>1007.8</td>\n",
       "      <td>NaN</td>\n",
       "      <td>NaN</td>\n",
       "      <td>17.2</td>\n",
       "      <td>24.3</td>\n",
       "      <td>No</td>\n",
       "      <td>No</td>\n",
       "    </tr>\n",
       "    <tr>\n",
       "      <th>2</th>\n",
       "      <td>2008-12-03</td>\n",
       "      <td>Albury</td>\n",
       "      <td>12.9</td>\n",
       "      <td>25.7</td>\n",
       "      <td>0.0</td>\n",
       "      <td>NaN</td>\n",
       "      <td>NaN</td>\n",
       "      <td>WSW</td>\n",
       "      <td>46.0</td>\n",
       "      <td>W</td>\n",
       "      <td>...</td>\n",
       "      <td>38.0</td>\n",
       "      <td>30.0</td>\n",
       "      <td>1007.6</td>\n",
       "      <td>1008.7</td>\n",
       "      <td>NaN</td>\n",
       "      <td>2.0</td>\n",
       "      <td>21.0</td>\n",
       "      <td>23.2</td>\n",
       "      <td>No</td>\n",
       "      <td>No</td>\n",
       "    </tr>\n",
       "    <tr>\n",
       "      <th>3</th>\n",
       "      <td>2008-12-04</td>\n",
       "      <td>Albury</td>\n",
       "      <td>9.2</td>\n",
       "      <td>28.0</td>\n",
       "      <td>0.0</td>\n",
       "      <td>NaN</td>\n",
       "      <td>NaN</td>\n",
       "      <td>NE</td>\n",
       "      <td>24.0</td>\n",
       "      <td>SE</td>\n",
       "      <td>...</td>\n",
       "      <td>45.0</td>\n",
       "      <td>16.0</td>\n",
       "      <td>1017.6</td>\n",
       "      <td>1012.8</td>\n",
       "      <td>NaN</td>\n",
       "      <td>NaN</td>\n",
       "      <td>18.1</td>\n",
       "      <td>26.5</td>\n",
       "      <td>No</td>\n",
       "      <td>No</td>\n",
       "    </tr>\n",
       "    <tr>\n",
       "      <th>4</th>\n",
       "      <td>2008-12-05</td>\n",
       "      <td>Albury</td>\n",
       "      <td>17.5</td>\n",
       "      <td>32.3</td>\n",
       "      <td>1.0</td>\n",
       "      <td>NaN</td>\n",
       "      <td>NaN</td>\n",
       "      <td>W</td>\n",
       "      <td>41.0</td>\n",
       "      <td>ENE</td>\n",
       "      <td>...</td>\n",
       "      <td>82.0</td>\n",
       "      <td>33.0</td>\n",
       "      <td>1010.8</td>\n",
       "      <td>1006.0</td>\n",
       "      <td>7.0</td>\n",
       "      <td>8.0</td>\n",
       "      <td>17.8</td>\n",
       "      <td>29.7</td>\n",
       "      <td>No</td>\n",
       "      <td>No</td>\n",
       "    </tr>\n",
       "  </tbody>\n",
       "</table>\n",
       "<p>5 rows × 23 columns</p>\n",
       "</div>"
      ],
      "text/plain": [
       "         Date Location  MinTemp  MaxTemp  Rainfall  Evaporation  Sunshine  \\\n",
       "0  2008-12-01   Albury     13.4     22.9       0.6          NaN       NaN   \n",
       "1  2008-12-02   Albury      7.4     25.1       0.0          NaN       NaN   \n",
       "2  2008-12-03   Albury     12.9     25.7       0.0          NaN       NaN   \n",
       "3  2008-12-04   Albury      9.2     28.0       0.0          NaN       NaN   \n",
       "4  2008-12-05   Albury     17.5     32.3       1.0          NaN       NaN   \n",
       "\n",
       "  WindGustDir  WindGustSpeed WindDir9am  ... Humidity9am  Humidity3pm  \\\n",
       "0           W           44.0          W  ...        71.0         22.0   \n",
       "1         WNW           44.0        NNW  ...        44.0         25.0   \n",
       "2         WSW           46.0          W  ...        38.0         30.0   \n",
       "3          NE           24.0         SE  ...        45.0         16.0   \n",
       "4           W           41.0        ENE  ...        82.0         33.0   \n",
       "\n",
       "   Pressure9am  Pressure3pm  Cloud9am  Cloud3pm  Temp9am  Temp3pm  RainToday  \\\n",
       "0       1007.7       1007.1       8.0       NaN     16.9     21.8         No   \n",
       "1       1010.6       1007.8       NaN       NaN     17.2     24.3         No   \n",
       "2       1007.6       1008.7       NaN       2.0     21.0     23.2         No   \n",
       "3       1017.6       1012.8       NaN       NaN     18.1     26.5         No   \n",
       "4       1010.8       1006.0       7.0       8.0     17.8     29.7         No   \n",
       "\n",
       "   RainTomorrow  \n",
       "0            No  \n",
       "1            No  \n",
       "2            No  \n",
       "3            No  \n",
       "4            No  \n",
       "\n",
       "[5 rows x 23 columns]"
      ]
     },
     "execution_count": 3,
     "metadata": {},
     "output_type": "execute_result"
    }
   ],
   "source": [
    "data = pd.read_csv('data/weather/weatherAUS.csv')\n",
    "\n",
    "data.head()"
   ]
  },
  {
   "cell_type": "code",
   "execution_count": 4,
   "metadata": {},
   "outputs": [],
   "source": [
    "places_to_remove = ['MountGinini', 'SydneyAirport', 'MelbourneAirport',\n",
    "                    'PearceRAAF', 'PerthAirport', 'MountGambier', 'NorfolkIsland', ]\n",
    "data = data[~data['Location'].isin(places_to_remove)]"
   ]
  },
  {
   "cell_type": "code",
   "execution_count": 5,
   "metadata": {},
   "outputs": [],
   "source": [
    "num_locations = 49 - len(places_to_remove)"
   ]
  },
  {
   "cell_type": "code",
   "execution_count": 6,
   "metadata": {},
   "outputs": [],
   "source": [
    "geo_locations = dict({ #decimal degrees\n",
    "                    'Albury': (-36.080477, 146.916280),\n",
    "                    'BadgerysCreek': (-33.881667, 150.744163),\n",
    "                    'Cobar': (-31.498333, 145.834444),\n",
    "                    'CoffsHarbour': (-30.296241, 153.113529),\n",
    "                    'Moree': (-29.461720, 149.840715),\n",
    "                    'Newcastle': (-32.919295, 151.779535),\n",
    "                    'NorahHead': (-33.281667, 151.567778),\n",
    "                    'NorfolkIsland': (-29.028958, 167.958729),\n",
    "                    'Penrith': (-33.751079, 150.694168),\n",
    "                    'Richmond': (-37.820395, 145.002515),\n",
    "                    'Sydney': (-33.869844, 151.208285),\n",
    "                    'SydneyAirport': (-33.935309, 151.165582),\n",
    "                    'WaggaWagga': (-35.115000, 147.367778),\n",
    "                    'Williamtown': (-32.815000, 151.842778),\n",
    "                    'Wollongong': (-34.424394, 150.893850),\n",
    "                    'Canberra': (-35.297591, 149.101268),\n",
    "                    'Tuggeranong': (-35.420977, 149.092134),\n",
    "                    'MountGinini': (-35.529744, 148.772540),\n",
    "                    'Ballarat': (-37.562303, 143.860565),\n",
    "                    'Bendigo': (-36.758877, 144.282593),\n",
    "                    'Sale': (-38.105036, 147.064790),\n",
    "                    'MelbourneAirport': (-37.666951, 144.833493),\n",
    "                    'Melbourne': (-37.814218, 144.963161),\n",
    "                    'Mildura': (-34.184726, 142.162497),\n",
    "                    'Nhil': (-36.333130, 141.649293),\n",
    "                    'Portland': (-38.345623, 141.604230),\n",
    "                    'Watsonia': (-37.711002, 145.083635),\n",
    "                    'Dartmoor': (-27.996162, 115.189218),\n",
    "                    'Brisbane': (-27.468968, 153.023499),\n",
    "                    'Cairns': (-16.920666, 145.772185),\n",
    "                    'GoldCoast': (-28.002373, 153.414599),\n",
    "                    'Townsville': (-19.256939, 146.823954),\n",
    "                    'Adelaide': (-34.928181, 138.599931),\n",
    "                    'MountGambier': (-37.824670, 140.782007),\n",
    "                    'Nuriootpa': (-34.469335, 138.993901),\n",
    "                    'Woomera': (-31.199914, 136.825353),\n",
    "                    'Albany': (-35.024782, 117.883608),\n",
    "                    'Witchcliffe': (-34.010273, 115.115673),\n",
    "                    'PearceRAAF': (-31.673960, 116.017544),\n",
    "                    'PerthAirport': (-31.940610, 115.967608),\n",
    "                    'Perth': (-31.955896, 115.860580),\n",
    "                    'SalmonGums': (-32.981535, 121.643942),\n",
    "                    'Walpole': (-34.977680, 116.731006),\n",
    "                    'Hobart': (-42.882509, 147.328123),\n",
    "                    'Launceston': (-41.434081, 147.137350),\n",
    "                    'AliceSprings': (-23.698388, 133.881289),\n",
    "                    'Darwin': (-12.460440, 130.841047),\n",
    "                    'Katherine': (-14.464616, 132.263599),\n",
    "                    'Uluru': (-25.345554, 131.036961)\n",
    "                     })"
   ]
  },
  {
   "cell_type": "code",
   "execution_count": 7,
   "metadata": {},
   "outputs": [],
   "source": [
    "for place in places_to_remove:\n",
    "    geo_locations.pop(place)"
   ]
  },
  {
   "cell_type": "code",
   "execution_count": 8,
   "metadata": {},
   "outputs": [],
   "source": [
    "cols = ['Temp3pm', 'Humidity3pm', 'Rainfall']\n",
    "data_geos = {c: data.dropna(subset = [c])[['Date', 'Location', *cols]] for c in cols}"
   ]
  },
  {
   "cell_type": "code",
   "execution_count": 9,
   "metadata": {},
   "outputs": [],
   "source": [
    "dates = {c: np.unique(data_geos[c]['Date'].values) for c in cols}"
   ]
  },
  {
   "cell_type": "code",
   "execution_count": 10,
   "metadata": {},
   "outputs": [
    {
     "name": "stdout",
     "output_type": "stream",
     "text": [
      "CPU times: user 40.7 s, sys: 0 ns, total: 40.7 s\n",
      "Wall time: 40.8 s\n"
     ]
    }
   ],
   "source": [
    "%%time\n",
    "full_dates = {c: [d for d in dates[c] if len(data_geos[c][data_geos[c]['Date'] == d]) == num_locations] for c in cols}"
   ]
  },
  {
   "cell_type": "code",
   "execution_count": 11,
   "metadata": {},
   "outputs": [
    {
     "data": {
      "text/plain": [
       "(530, 411, 499)"
      ]
     },
     "execution_count": 11,
     "metadata": {},
     "output_type": "execute_result"
    }
   ],
   "source": [
    "#number of dates where the complete signal is available\n",
    "len(full_dates[cols[0]]), len(full_dates[cols[1]]), len(full_dates[cols[2]])"
   ]
  },
  {
   "cell_type": "code",
   "execution_count": 12,
   "metadata": {},
   "outputs": [
    {
     "data": {
      "text/plain": [
       "(85, 127, 151, 167)"
      ]
     },
     "execution_count": 12,
     "metadata": {},
     "output_type": "execute_result"
    }
   ],
   "source": [
    "summer_days = [d for d in full_dates[cols[0]] if d[5:7] in ['12', '01', '02']]\n",
    "autumn_days = [d for d in full_dates[cols[0]] if d[5:7] in ['03', '04', '05']]\n",
    "winter_days = [d for d in full_dates[cols[0]] if d[5:7] in ['06', '07', '08']]\n",
    "spring_days = [d for d in full_dates[cols[0]] if d[5:7] in ['09', '10', '11']]\n",
    "len(summer_days), len(autumn_days), len(winter_days), len(spring_days) "
   ]
  },
  {
   "cell_type": "code",
   "execution_count": 13,
   "metadata": {},
   "outputs": [],
   "source": [
    "k = 8 #number of observations\n",
    "rs = np.random.RandomState(12345)\n",
    "random_indexes = {c: rs.randint(len(full_dates[c]), size = (k, 1)) for c in cols}\n",
    "# random_dates = {c: np.array(full_dates[c])[random_indexes[c]].flatten() for c in cols} \n",
    "random_dates = {c: np.array([summer_days[0], summer_days[-1], \n",
    "                autumn_days[0], autumn_days[-1],\n",
    "                winter_days[0], winter_days[-1],\n",
    "                spring_days[0], spring_days[-1]]) for c in cols}"
   ]
  },
  {
   "cell_type": "code",
   "execution_count": 14,
   "metadata": {},
   "outputs": [
    {
     "name": "stdout",
     "output_type": "stream",
     "text": [
      "Temp3pm :  ['2013-12-01' '2015-01-05' '2013-03-01' '2014-05-31' '2013-06-02'\n",
      " '2014-08-31' '2013-09-01' '2014-11-30'] \n",
      "Humidity3pm:  ['2013-12-01' '2015-01-05' '2013-03-01' '2014-05-31' '2013-06-02'\n",
      " '2014-08-31' '2013-09-01' '2014-11-30'] \n",
      "Rainfall:  ['2013-12-01' '2015-01-05' '2013-03-01' '2014-05-31' '2013-06-02'\n",
      " '2014-08-31' '2013-09-01' '2014-11-30']\n"
     ]
    }
   ],
   "source": [
    "print(cols[0], ': ', random_dates[cols[0]],'\\n' + cols[1] + ': ', random_dates[cols[1]], '\\n' + cols[2] + ': ', random_dates[cols[2]]) "
   ]
  },
  {
   "cell_type": "code",
   "execution_count": 15,
   "metadata": {},
   "outputs": [],
   "source": [
    "def get_index(place):\n",
    "    return list(vertice_labels.values()).index(place)\n",
    "\n",
    "vertice_labels = {i: data_geos[cols[0]][data_geos[cols[0]]['Date'] == full_dates[cols[0]][0]]['Location'].values[i] for i in range(num_locations)}  \n",
    "signals = {c: np.array([data_geos[c][data_geos[c]['Date'] == d][c].values for d in random_dates[c]], dtype=object) for c in cols}"
   ]
  },
  {
   "cell_type": "code",
   "execution_count": 16,
   "metadata": {},
   "outputs": [],
   "source": [
    "def objective_function_spielman(x, ws):\n",
    "    \n",
    "    n, d = np.shape(x)\n",
    "    W, ds = vector_to_matrix(np.shape(x)[0], ws)\n",
    "    L = np.diag(ds) - W\n",
    "    return np.linalg.norm(L @ x)"
   ]
  },
  {
   "cell_type": "code",
   "execution_count": 17,
   "metadata": {},
   "outputs": [],
   "source": [
    "x1 = signals[cols[0]].T\n",
    "x2 = signals[cols[1]].T\n",
    "n, d = np.shape(x1)\n",
    "\n",
    "# L0 = np.arange(0, n ** 2, 1).reshape((n, n))/100\n",
    "L0 = np.ones((n, n))\n",
    "ws = L0[np.triu_indices(np.shape(x1)[0], k = 1)]\n",
    "\n",
    "g = lambda ws: objective_function_spielman(x1, ws)\n",
    "h = lambda ws: objective_function_spielman(x2, ws)"
   ]
  },
  {
   "cell_type": "code",
   "execution_count": null,
   "metadata": {},
   "outputs": [
    {
     "name": "stderr",
     "output_type": "stream",
     "text": [
      "/home/thaig/anaconda3/lib/python3.8/site-packages/scipy/optimize/_hessian_update_strategy.py:182: UserWarning: delta_grad == 0.0. Check if the approximated function is linear. If the function is linear better results can be obtained by defining the Hessian as zero instead of using quasi-Newton approximations.\n",
      "  warn('delta_grad == 0.0. Check if the approximated '\n"
     ]
    }
   ],
   "source": [
    "%%time\n",
    "α = 0.1\n",
    "t = 1\n",
    "res_temp = minimize(g, ws, bounds = bounds_spielman(len(ws)), constraints = constraints_spielman(n, ws, α, False), \n",
    "               tol = 1 * 10 ** (-t), method = 'trust-constr')\n",
    "# res_hum = minimize(h, ws, bounds = bounds_spielman(len(ws)), constraints = constraints_spielman(n, ws, α), \n",
    "#                tol = 1 * 10 ** (-t))\n",
    "\n",
    "res_temp.success #deu certo?"
   ]
  },
  {
   "cell_type": "code",
   "execution_count": null,
   "metadata": {},
   "outputs": [],
   "source": [
    "L_temp = make_graph(np.shape(x1)[0], res_temp.x, tol = 1e-2)\n",
    "# L_hum = make_graph(np.shape(x1)[0], res_hum.x, tol = t)\n",
    "L_temp.set_coordinates([[geo_locations[vertice_labels[i]][1],\n",
    "                         geo_locations[vertice_labels[i]][0]] for i in range(num_locations)])\n",
    "# L_hum.set_coordinates([[geo_locations[vertice_labels[i]][1], geo_locations[vertice_labels[i]][0]] for i in range(49)])"
   ]
  },
  {
   "cell_type": "code",
   "execution_count": null,
   "metadata": {},
   "outputs": [],
   "source": [
    "fig, ax = plt.subplots(1, 2, figsize = (10, 5))\n",
    "\n",
    "L_temp.plot(ax = ax[0])\n",
    "ax[1].matshow(L_temp.W.todense())\n",
    "ax[0].set_title('Learned graph, ' + str(L_temp.Ne) + ' edges')\n",
    "ax[1].set_title('Trace: ' + str(np.round(np.trace(L_temp.L.todense()), 5)) + ', αn: ' + str(α * n))\n",
    "sm = plt.cm.ScalarMappable()\n",
    "sm.set_array([])\n",
    "  \n",
    "plt.colorbar(sm, ax = ax[1])\n",
    "plt.show()\n",
    "# L_temp.plot(ax = ax[1])"
   ]
  },
  {
   "cell_type": "code",
   "execution_count": null,
   "metadata": {},
   "outputs": [],
   "source": [
    "L_temp.compute_fourier_basis()\n",
    "# L_hum.compute_fourier_basis()"
   ]
  },
  {
   "cell_type": "code",
   "execution_count": null,
   "metadata": {},
   "outputs": [],
   "source": [
    "ns = [list(n) for n in np.array(np.nonzero(L_temp.W.todense() > 0)).T]"
   ]
  },
  {
   "cell_type": "code",
   "execution_count": null,
   "metadata": {},
   "outputs": [],
   "source": [
    "neighbors = dict()\n",
    "for n in ns:\n",
    "    i, j = n\n",
    "    if(vertice_labels[i] in neighbors.keys()):\n",
    "        neighbors[vertice_labels[i]].append(vertice_labels[j])\n",
    "    else:\n",
    "        neighbors[vertice_labels[i]] = [vertice_labels[j]]\n",
    "\n",
    "has_neighbors = []\n",
    "for pl in neighbors.keys():\n",
    "    has_neighbors += [get_index(pl)]\n",
    "no_neighbors = [i for i in range(num_locations) if i not in has_neighbors]"
   ]
  },
  {
   "cell_type": "code",
   "execution_count": null,
   "metadata": {},
   "outputs": [],
   "source": [
    "L_temp.is_connected(), no_neighbors #isolated vertices"
   ]
  },
  {
   "cell_type": "code",
   "execution_count": null,
   "metadata": {},
   "outputs": [],
   "source": [
    "distance_weight_ratio = {}\n",
    "max_ws_ds = {}\n",
    "for place1 in neighbors.keys():\n",
    "    i = get_index(place1)\n",
    "    md, mw = 0, 0\n",
    "    for place2 in neighbors[place1]:\n",
    "        j = get_index(place2)\n",
    "        dist = great_circle_distance(*geo_locations[place1], *geo_locations[place2])\n",
    "        w = L_temp.W[i, j]\n",
    "        if place1 not in distance_weight_ratio.keys():\n",
    "            distance_weight_ratio[place1] = [dist * w]\n",
    "        else:\n",
    "            distance_weight_ratio[place1].append(dist * w)            \n",
    "        if dist > md:\n",
    "            md = dist\n",
    "        if w > mw:\n",
    "            mw = w\n",
    "    max_ws_ds[place1] = (md, mw)"
   ]
  },
  {
   "cell_type": "code",
   "execution_count": null,
   "metadata": {},
   "outputs": [],
   "source": [
    "place_ticks = []\n",
    "for place in max_ws_ds.keys():\n",
    "    if max_ws_ds[place][0] * max_ws_ds[place][1] >= 0.07:\n",
    "        place_ticks += [(get_index(place), place)]"
   ]
  },
  {
   "cell_type": "code",
   "execution_count": null,
   "metadata": {},
   "outputs": [],
   "source": [
    "skip = 2\n",
    "plt.bar(np.arange(num_locations)[::skip], [max_ws_ds[place][0] * max_ws_ds[place][1] for place in max_ws_ds.keys()][::skip])\n",
    "plt.xticks([p[0] for p in place_ticks][::skip], [p[1] for p in place_ticks][::skip], rotation = 90, fontsize=12)\n",
    "plt.title('Maximum distance weight ratios per location')\n",
    "plt.show()"
   ]
  },
  {
   "cell_type": "code",
   "execution_count": null,
   "metadata": {},
   "outputs": [],
   "source": [
    "fig, ax = plt.subplots(2, k // 2, figsize = (20, 10))\n",
    "\n",
    "titles = 2 * ['summer'] + 2 * ['autumn'] + 2 * ['winter'] + 2 * ['spring']\n",
    "for i in range(2):\n",
    "    for j in range(k // 2):\n",
    "        L_temp.plot_signal(x1.T[i * (k // 2) + j], ax=ax[i][j], vertex_size = 30)\n",
    "#         ax[i][j].set_title(random_dates[cols[0]][i * (k // 2) + j])\n",
    "        ax[i][j].axis('off')\n",
    "        ax[i][j].set_title(random_dates[cols[0]][i * (k // 2) + j] + ', ' + titles[i * (k // 2) + j])\n",
    "# for j, i in enumerate([0,5,8]):\n",
    "#     L_temp.plot_signal(x1.T[i], ax=ax[0][j], vertex_size = 30)\n",
    "#     ax[1][j].stem(np.abs(L_temp.gft(x1.T[i])))\n",
    "#     ax[0][j].axis('off')\n",
    "# #     ax[1][i].axis('off')\n",
    "#     ax[0][j].set_title(random_dates[cols[0]][i])\n",
    "#     ax[1][j].set_title('Quadratic laplacian form of x: ' + str(np.round(x1[:, i] @ (L_temp.L) @ x1[:, i], 5)))\n",
    "\n",
    "# ax[1][0].set_ylabel('Magnitude of coefficients in the GFT')    \n",
    "plt.suptitle('Observations on learned graph')\n",
    "plt.show()"
   ]
  },
  {
   "cell_type": "code",
   "execution_count": null,
   "metadata": {},
   "outputs": [],
   "source": [
    "fig, ax = plt.subplots(2, k // 2, figsize = (20, 10))\n",
    "\n",
    "for i in range(2):\n",
    "    ax[i][0].set_ylabel('Magnitude of coefficients')\n",
    "    for j in range(k // 2):\n",
    "        ax[i][j].stem(np.abs(L_temp.gft(x1.T[i * (k // 2) + j])))\n",
    "        ax[i][j].set_title(random_dates[cols[0]][i * (k // 2) + j])\n",
    "        \n",
    "fig.suptitle('GFTs of observations')\n",
    "plt.show()"
   ]
  },
  {
   "cell_type": "code",
   "execution_count": null,
   "metadata": {},
   "outputs": [],
   "source": [
    "normalize = np.sqrt(np.diag(1 / np.diagonal(L_temp.L.todense())))\n",
    "L_temp.L_normalized = normalize @ L_temp.L @ normalize"
   ]
  },
  {
   "cell_type": "code",
   "execution_count": null,
   "metadata": {},
   "outputs": [],
   "source": [
    "for i in range(k):\n",
    "    print((np.linalg.norm(x1[:, i])))"
   ]
  },
  {
   "cell_type": "code",
   "execution_count": null,
   "metadata": {},
   "outputs": [],
   "source": [
    "plt.bar(np.arange(k), [(x1[:, i] @ (L_temp.L_normalized) @ x1[:, i]) / (np.linalg.norm(x1[:, i])) for i in range(k)])\n",
    "plt.xticks(np.arange(k),random_dates[cols[0]], rotation = 45)\n",
    "plt.title('Normalized quadratic laplacian forms of observations')\n",
    "plt.ylabel(r'$\\frac{x^T \\mathcal{L} x}{\\| x \\|_2}$         ', fontsize = 20, rotation = 0)\n",
    "plt.show()"
   ]
  },
  {
   "cell_type": "code",
   "execution_count": null,
   "metadata": {},
   "outputs": [],
   "source": [
    "# date = '2015-10-15'\n",
    "# missing_temperatures = {'Newcastle': 26.1, 'Melbourne': 34, 'Albany': 14, 'Katherine': 36.5} \n",
    "# #Melbourne entre 29-34, Albany entre 14 e 17 e Katherine entre 35 e 38"
   ]
  }
 ],
 "metadata": {
  "kernelspec": {
   "display_name": "Python 3",
   "language": "python",
   "name": "python3"
  },
  "language_info": {
   "codemirror_mode": {
    "name": "ipython",
    "version": 3
   },
   "file_extension": ".py",
   "mimetype": "text/x-python",
   "name": "python",
   "nbconvert_exporter": "python",
   "pygments_lexer": "ipython3",
   "version": "3.8.5"
  }
 },
 "nbformat": 4,
 "nbformat_minor": 4
}
